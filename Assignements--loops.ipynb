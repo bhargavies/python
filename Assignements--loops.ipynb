{
 "cells": [
  {
   "cell_type": "markdown",
   "metadata": {},
   "source": [
    "## To print square:\n",
    "- In a single line using * operator\n",
    "- using \"\"\" sytax to just print any text just how it shoulg appear."
   ]
  },
  {
   "cell_type": "code",
   "execution_count": 47,
   "metadata": {
    "collapsed": false
   },
   "outputs": [
    {
     "name": "stdout",
     "output_type": "stream",
     "text": [
      "+--+--+\n",
      "|  |  |\n",
      "|  |  |\n",
      "+--+--+\n",
      "|  |  |\n",
      "|  |  |\n",
      "+--+--+\n"
     ]
    }
   ],
   "source": [
    "print '+'+2*'-'+'+'+2*'-'+'+' '\\n|'+2*' '+'|'+2*' '+'|''\\n|'+2*' '+'|'+2*' '+'|''\\n+'+2*'-'+'+'+2*'-'+'+''\\n|'+2*' '+'|'+2*' '+'|''\\n|'+2*' '+'|'+2*' '+'|''\\n+'+2*'-'+'+'+2*'-'+'+'"
   ]
  },
  {
   "cell_type": "code",
   "execution_count": 48,
   "metadata": {
    "collapsed": false
   },
   "outputs": [
    {
     "name": "stdout",
     "output_type": "stream",
     "text": [
      "+--+--+\n",
      "|  |  |\n",
      "|  |  |\n",
      "+--+--+\n",
      "|  |  |\n",
      "|  |  |\n",
      "+--+--+\n"
     ]
    }
   ],
   "source": [
    " print \"\"\"\\\n",
    " +--+--+\n",
    " |  |  |\n",
    " |  |  |\n",
    " +--+--+\n",
    " |  |  |\n",
    " |  |  |\n",
    " +--+--+\"\"\""
   ]
  },
  {
   "cell_type": "markdown",
   "metadata": {},
   "source": [
    "## Write a Python program to find those numbers which are divisible by 7 and multiple of 5, between 1500 and 2700 (both included). "
   ]
  },
  {
   "cell_type": "code",
   "execution_count": 40,
   "metadata": {
    "collapsed": false
   },
   "outputs": [],
   "source": [
    "def div7_mul5():\n",
    "    for n in range(1500,2700):\n",
    "        if (n % 7 == 0) & (n % 5 == 0):\n",
    "            print n"
   ]
  },
  {
   "cell_type": "code",
   "execution_count": 41,
   "metadata": {
    "collapsed": false
   },
   "outputs": [
    {
     "name": "stdout",
     "output_type": "stream",
     "text": [
      "1505\n",
      "1540\n",
      "1575\n",
      "1610\n",
      "1645\n",
      "1680\n",
      "1715\n",
      "1750\n",
      "1785\n",
      "1820\n",
      "1855\n",
      "1890\n",
      "1925\n",
      "1960\n",
      "1995\n",
      "2030\n",
      "2065\n",
      "2100\n",
      "2135\n",
      "2170\n",
      "2205\n",
      "2240\n",
      "2275\n",
      "2310\n",
      "2345\n",
      "2380\n",
      "2415\n",
      "2450\n",
      "2485\n",
      "2520\n",
      "2555\n",
      "2590\n",
      "2625\n",
      "2660\n",
      "2695\n"
     ]
    }
   ],
   "source": [
    "div7_mul5()"
   ]
  },
  {
   "cell_type": "code",
   "execution_count": 35,
   "metadata": {
    "collapsed": false
   },
   "outputs": [
    {
     "ename": "SyntaxError",
     "evalue": "invalid syntax (<ipython-input-35-53b388023b81>, line 1)",
     "output_type": "error",
     "traceback": [
      "\u001b[0;36m  File \u001b[0;32m\"<ipython-input-35-53b388023b81>\"\u001b[0;36m, line \u001b[0;32m1\u001b[0m\n\u001b[0;31m    x=25c\u001b[0m\n\u001b[0m        ^\u001b[0m\n\u001b[0;31mSyntaxError\u001b[0m\u001b[0;31m:\u001b[0m invalid syntax\n"
     ]
    }
   ],
   "source": [
    "x=25c\n",
    "p=x[:-1]\n",
    "print \"temp:\",p,\"doit\"\n",
    "if (x[-1] == 'c'):\n",
    "    print 'success'"
   ]
  },
  {
   "cell_type": "code",
   "execution_count": 29,
   "metadata": {
    "collapsed": false
   },
   "outputs": [],
   "source": [
    "def temp_conv(x):\n",
    "    temparature=x[-1]\n",
    "    value = int(x[:-1])\n",
    "    if (temparature.lower() == 'c'):\n",
    "        f= (value/5)+9\n",
    "        print \"temparature in faranhiet is:\",f,\"F\"\n",
    "    elif (temparature.lower() == 'f'):\n",
    "        c= (value+9)-2\n",
    "        print \"temparature in celsi:\",c,\"C\"\n",
    "    else:\n",
    "        print \"enter the value either in cel or far, input entered is invalid\"\n",
    "    "
   ]
  },
  {
   "cell_type": "code",
   "execution_count": 30,
   "metadata": {
    "collapsed": false
   },
   "outputs": [
    {
     "name": "stdout",
     "output_type": "stream",
     "text": [
      "enter the value either in cel or far, input entered is invalid\n"
     ]
    }
   ],
   "source": [
    "temp_conv('255v')"
   ]
  },
  {
   "cell_type": "markdown",
   "metadata": {
    "collapsed": false
   },
   "source": [
    "## How many times will the following code print \"Welcome to Python\"? \n",
    " \n",
    "count = 0 while count < 10:     print(\"Welcome to Python\")     count += 1 "
   ]
  },
  {
   "cell_type": "code",
   "execution_count": 39,
   "metadata": {
    "collapsed": false
   },
   "outputs": [
    {
     "name": "stdout",
     "output_type": "stream",
     "text": [
      "Welcome to Python\n",
      "Welcome to Python\n",
      "Welcome to Python\n",
      "Welcome to Python\n",
      "Welcome to Python\n",
      "Welcome to Python\n",
      "Welcome to Python\n",
      "Welcome to Python\n",
      "Welcome to Python\n",
      "Welcome to Python\n"
     ]
    }
   ],
   "source": [
    "count = 0 \n",
    "while count < 10:     \n",
    "    print(\"Welcome to Python\")  \n",
    "    count += 1 "
   ]
  },
  {
   "cell_type": "markdown",
   "metadata": {
    "collapsed": false
   },
   "source": [
    "## Write a Python program to count the number of even and odd numbers from a series of numbers.  Sample numbers : numbers = (1, 2, 3, 4, 5, 6, 7, 8, 9)  Expected Output :  Number of even numbers : 5 Number of odd numbers : 4"
   ]
  },
  {
   "cell_type": "code",
   "execution_count": 49,
   "metadata": {
    "collapsed": false
   },
   "outputs": [
    {
     "ename": "SyntaxError",
     "evalue": "invalid syntax (<ipython-input-49-d5da9b6c9c8f>, line 2)",
     "output_type": "error",
     "traceback": [
      "\u001b[0;36m  File \u001b[0;32m\"<ipython-input-49-d5da9b6c9c8f>\"\u001b[0;36m, line \u001b[0;32m2\u001b[0m\n\u001b[0;31m    for i in x(i)\u001b[0m\n\u001b[0m                 ^\u001b[0m\n\u001b[0;31mSyntaxError\u001b[0m\u001b[0;31m:\u001b[0m invalid syntax\n"
     ]
    }
   ],
   "source": [
    "def evenodd(x):\n",
    "    \n"
   ]
  },
  {
   "cell_type": "markdown",
   "metadata": {
    "collapsed": false
   },
   "source": [
    "## What is the output of the following code? \n",
    " \n",
    "x = 0 while x < 4:     x = x + 1 \n",
    " \n",
    "print(\"x is\", x) "
   ]
  },
  {
   "cell_type": "code",
   "execution_count": 52,
   "metadata": {
    "collapsed": false
   },
   "outputs": [
    {
     "name": "stdout",
     "output_type": "stream",
     "text": [
      "1\n",
      "2\n",
      "3\n",
      "4\n",
      "('x is', 4)\n"
     ]
    }
   ],
   "source": [
    "x = 0 \n",
    "while x < 4:    \n",
    "    x = x + 1 \n",
    "    print x\n",
    "print(\"x is\", x)"
   ]
  },
  {
   "cell_type": "markdown",
   "metadata": {
    "collapsed": true
   },
   "source": [
    "## x = 'abcd' for i in range(len(x)):     x = 'a'     print(x) "
   ]
  },
  {
   "cell_type": "code",
   "execution_count": 54,
   "metadata": {
    "collapsed": false
   },
   "outputs": [
    {
     "name": "stdout",
     "output_type": "stream",
     "text": [
      "a\n",
      "a\n",
      "a\n",
      "a\n"
     ]
    }
   ],
   "source": [
    "x = 'abcd' \n",
    "for i in range(len(x)):     \n",
    "    x = 'a'     \n",
    "    print(x) "
   ]
  },
  {
   "cell_type": "markdown",
   "metadata": {},
   "source": [
    "## Write a Python program to count the number of even and odd numbers from a series of numbers.  Sample numbers : numbers = (1, 2, 3, 4, 5, 6, 7, 8, 9)  Expected Output :  Number of even numbers : 5 Number of odd numbers : "
   ]
  },
  {
   "cell_type": "code",
   "execution_count": 110,
   "metadata": {
    "collapsed": false
   },
   "outputs": [],
   "source": [
    "def evenodd (x):\n",
    "    print \" Enter the number in which you need to count even and odd numbers\"\n",
    "    even_count=0\n",
    "    odd_count=0\n",
    "    for i in range(0,len(x)):\n",
    "        if (x[i]%2 == 0):\n",
    "            even_count+=1\n",
    "        else:\n",
    "            odd_count+=1\n",
    "    print \"Number of even numbers=:\",even_count\n",
    "    print \"Number of odd numbers=:\",odd_count"
   ]
  },
  {
   "cell_type": "code",
   "execution_count": 111,
   "metadata": {
    "collapsed": false
   },
   "outputs": [
    {
     "name": "stdout",
     "output_type": "stream",
     "text": [
      " Enter the number in which you need to count even and odd numbers\n",
      "Number of even numbers=: 1\n",
      "Number of odd numbers=: 2\n"
     ]
    }
   ],
   "source": [
    "evenodd([1,3,6])"
   ]
  },
  {
   "cell_type": "markdown",
   "metadata": {},
   "source": [
    "## What will be displayed when the following code is executed? \n",
    " \n",
    "    number = 6     while number > 0:         number -= 3         print(number, end = ' ')"
   ]
  },
  {
   "cell_type": "code",
   "execution_count": 116,
   "metadata": {
    "collapsed": false
   },
   "outputs": [
    {
     "ename": "SyntaxError",
     "evalue": "invalid syntax (<ipython-input-116-27f4d641dcf2>, line 4)",
     "output_type": "error",
     "traceback": [
      "\u001b[0;36m  File \u001b[0;32m\"<ipython-input-116-27f4d641dcf2>\"\u001b[0;36m, line \u001b[0;32m4\u001b[0m\n\u001b[0;31m    print(number,end='')\u001b[0m\n\u001b[0m                    ^\u001b[0m\n\u001b[0;31mSyntaxError\u001b[0m\u001b[0;31m:\u001b[0m invalid syntax\n"
     ]
    }
   ],
   "source": [
    "number = 6     \n",
    "while number > 0:         \n",
    "    number -= 3         \n",
    "    print(number,end='')"
   ]
  },
  {
   "cell_type": "markdown",
   "metadata": {},
   "source": [
    "## Write a Python program which iterates the integers from 1 to 50. For multiples of three print \"Fizz\" instead of the number and for the multiples of five print \"Buzz\". For numbers which are multiples of both three and five print \"FizzBuzz\". Sample Output :  fizzbuzz 1 2 fizz 4  buzz "
   ]
  },
  {
   "cell_type": "code",
   "execution_count": 214,
   "metadata": {
    "collapsed": false
   },
   "outputs": [],
   "source": [
    "def add_digit(n):\n",
    "    sum=0\n",
    "    while (n/10 != 0):\n",
    "        digit =n%10\n",
    "        sum=sum+digit\n",
    "        n=n/10\n",
    "    sum=sum+n\n",
    "    return sum\n",
    "def main_fuzz(x):\n",
    "    i=0\n",
    "    while i<len(x):\n",
    "        count=add_digit(x[i])\n",
    "        if (count%3==0) & (x[i]%10 == 0 or x[i]%10 == 5):\n",
    "            print \"FIZZBUZZ\"\n",
    "            #continue\n",
    "        elif (x[i]%10 == 0 or x[i]%10 == 5):\n",
    "            print \"BUZZ\"\n",
    "            #continue\n",
    "        elif (count%3==0):\n",
    "            print \"FIZZ\"\n",
    "        else:\n",
    "            print x[i]\n",
    "        i += 1"
   ]
  },
  {
   "cell_type": "code",
   "execution_count": 213,
   "metadata": {
    "collapsed": false
   },
   "outputs": [
    {
     "name": "stdout",
     "output_type": "stream",
     "text": [
      "1\n",
      "2\n",
      "FIZZ\n",
      "4\n",
      "BUZZ\n",
      "FIZZBUZZ\n"
     ]
    }
   ],
   "source": [
    "l = [1,2,3,4,5,15]\n",
    "main_fuzz(l)"
   ]
  },
  {
   "cell_type": "code",
   "execution_count": null,
   "metadata": {
    "collapsed": true
   },
   "outputs": [],
   "source": []
  }
 ],
 "metadata": {
  "kernelspec": {
   "display_name": "Python 2",
   "language": "python",
   "name": "python2"
  },
  "language_info": {
   "codemirror_mode": {
    "name": "ipython",
    "version": 2
   },
   "file_extension": ".py",
   "mimetype": "text/x-python",
   "name": "python",
   "nbconvert_exporter": "python",
   "pygments_lexer": "ipython2",
   "version": "2.7.13"
  }
 },
 "nbformat": 4,
 "nbformat_minor": 2
}
