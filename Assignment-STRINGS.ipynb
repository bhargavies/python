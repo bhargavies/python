{
 "cells": [
  {
   "cell_type": "markdown",
   "metadata": {},
   "source": [
    "## 1.\tWhat is the output of the following Python program section?\n",
    "    st='Python Programming' \n",
    "    x=st.lower()\n",
    "    y=x.replace('python','Python')\n",
    "    print y"
   ]
  },
  {
   "cell_type": "code",
   "execution_count": 1,
   "metadata": {
    "collapsed": false
   },
   "outputs": [
    {
     "name": "stdout",
     "output_type": "stream",
     "text": [
      "Python programming\n"
     ]
    }
   ],
   "source": [
    "st='Python Programming'\n",
    "x=st.lower()\n",
    "y=x.replace('python','Python')\n",
    "print y"
   ]
  },
  {
   "cell_type": "markdown",
   "metadata": {},
   "source": [
    "## 2.\ttxt='Python is powerful and easy.'\n",
    "  words=txt.split(' ')\n",
    "  l=len(words)\n",
    "   print l\n"
   ]
  },
  {
   "cell_type": "code",
   "execution_count": 3,
   "metadata": {
    "collapsed": false
   },
   "outputs": [
    {
     "name": "stdout",
     "output_type": "stream",
     "text": [
      "5\n"
     ]
    }
   ],
   "source": [
    "txt='Pyton is powerful and easy.'\n",
    "words=txt.split()\n",
    "l=len(words)\n",
    "print l"
   ]
  },
  {
   "cell_type": "markdown",
   "metadata": {},
   "source": [
    "## 3.\tWhat would be the output from the following Python program section?\n",
    "  st=['P','y','t','h','o','n']\n",
    "  w=”''.join(st)\n",
    "  print w"
   ]
  },
  {
   "cell_type": "code",
   "execution_count": 11,
   "metadata": {
    "collapsed": false
   },
   "outputs": [
    {
     "name": "stdout",
     "output_type": "stream",
     "text": [
      "p.y.t.h.o.n\n"
     ]
    }
   ],
   "source": [
    "st=['p','y','t','h','o','n']\n",
    "w=\".\".join(st)\n",
    "print w"
   ]
  },
  {
   "cell_type": "markdown",
   "metadata": {
    "collapsed": true
   },
   "source": [
    "## 4.\tHow to check if a String contains only digits?\n",
    "\n",
    "- using isdigit() function"
   ]
  },
  {
   "cell_type": "code",
   "execution_count": 101,
   "metadata": {
    "collapsed": false
   },
   "outputs": [],
   "source": [
    "def isdig(x):\n",
    "    if (x.isdigit() == True):\n",
    "        print \"Input is a number\"\n",
    "    if (x.isdigit() == False):\n",
    "        print \"Input contains one or more characters.\""
   ]
  },
  {
   "cell_type": "code",
   "execution_count": 102,
   "metadata": {
    "collapsed": false
   },
   "outputs": [
    {
     "name": "stdout",
     "output_type": "stream",
     "text": [
      "Input contains one or more characters.\n"
     ]
    }
   ],
   "source": [
    "isdig(\"34h8\")"
   ]
  },
  {
   "cell_type": "markdown",
   "metadata": {},
   "source": [
    "## 5.\tHow to count number of vowels and consonants in a String?"
   ]
  },
  {
   "cell_type": "code",
   "execution_count": 163,
   "metadata": {
    "collapsed": false
   },
   "outputs": [],
   "source": [
    "def vowel_con(e):\n",
    "    lo=e.lower()\n",
    "    i=len(e)-1\n",
    "    vowel=0\n",
    "    cons=0\n",
    "    while i>=0:\n",
    "        if (lo[i] == \"a\") | (lo[i] == \"e\") | (lo[i] == \"i\") | (lo[i] == \"o\") | (lo[i] == \"u\"):\n",
    "            vowel=vowel+1\n",
    "        else:\n",
    "            cons=cons+1\n",
    "        i=i-1\n",
    "    print \"number of consonants is:\",cons\n",
    "    print \"number of vowel is:\",vowel        "
   ]
  },
  {
   "cell_type": "code",
   "execution_count": 164,
   "metadata": {
    "collapsed": false
   },
   "outputs": [
    {
     "name": "stdout",
     "output_type": "stream",
     "text": [
      "number of consonants is: 3\n",
      "number of vowel is: 1\n"
     ]
    }
   ],
   "source": [
    "vowel_con(\"jdfa\")"
   ]
  },
  {
   "cell_type": "markdown",
   "metadata": {},
   "source": [
    "## 8.\tYou are given a string. Your task is to capitalize each word of the string."
   ]
  },
  {
   "cell_type": "code",
   "execution_count": 184,
   "metadata": {
    "collapsed": true
   },
   "outputs": [],
   "source": [
    "def cap(u):\n",
    "    n=u.upper()\n",
    "    print n"
   ]
  },
  {
   "cell_type": "code",
   "execution_count": 186,
   "metadata": {
    "collapsed": false
   },
   "outputs": [
    {
     "name": "stdout",
     "output_type": "stream",
     "text": [
      "DOG IS PIG\n"
     ]
    }
   ],
   "source": [
    "cap(\"Dog is pig\")"
   ]
  },
  {
   "cell_type": "markdown",
   "metadata": {},
   "source": [
    "## 9.\tYou need to write a function to implement an algorithm which will accept a string of characters and should find the highest occurrence of the character and display it. For example if input is \"aaaaaaaaaaaaaaaaabbbbcddddeeeeee\" it should return \"a\"."
   ]
  },
  {
   "cell_type": "code",
   "execution_count": null,
   "metadata": {
    "collapsed": true
   },
   "outputs": [],
   "source": [
    "def occ(p):\n",
    "    "
   ]
  }
 ],
 "metadata": {
  "kernelspec": {
   "display_name": "Python 2",
   "language": "python",
   "name": "python2"
  },
  "language_info": {
   "codemirror_mode": {
    "name": "ipython",
    "version": 2
   },
   "file_extension": ".py",
   "mimetype": "text/x-python",
   "name": "python",
   "nbconvert_exporter": "python",
   "pygments_lexer": "ipython2",
   "version": "2.7.13"
  }
 },
 "nbformat": 4,
 "nbformat_minor": 2
}
